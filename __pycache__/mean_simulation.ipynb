{
 "cells": [
  {
   "cell_type": "code",
   "execution_count": 1,
   "metadata": {},
   "outputs": [],
   "source": [
    "import numpy as np\n",
    "import pandas as pd\n",
    "import matplotlib as mpl\n",
    "import matplotlib.pyplot as plt\n",
    "import seaborn as sns\n",
    "%matplotlib inline"
   ]
  },
  {
   "cell_type": "code",
   "execution_count": 7,
   "metadata": {},
   "outputs": [],
   "source": [
    "df = pd.read_excel('input/Dummy.xlsx')"
   ]
  },
  {
   "cell_type": "code",
   "execution_count": 8,
   "metadata": {},
   "outputs": [
    {
     "data": {
      "text/plain": [
       "array([3, 2, 1, 4, 5], dtype=int64)"
      ]
     },
     "execution_count": 8,
     "metadata": {},
     "output_type": "execute_result"
    }
   ],
   "source": [
    "#Mengelompokkan data-data yang sama dalam satu kolom\n",
    "#dalam hal ini kolom Label\n",
    "df['Label'].unique()"
   ]
  },
  {
   "cell_type": "code",
   "execution_count": 9,
   "metadata": {},
   "outputs": [
    {
     "data": {
      "text/html": [
       "<div>\n",
       "<style scoped>\n",
       "    .dataframe tbody tr th:only-of-type {\n",
       "        vertical-align: middle;\n",
       "    }\n",
       "\n",
       "    .dataframe tbody tr th {\n",
       "        vertical-align: top;\n",
       "    }\n",
       "\n",
       "    .dataframe thead th {\n",
       "        text-align: right;\n",
       "    }\n",
       "</style>\n",
       "<table border=\"1\" class=\"dataframe\">\n",
       "  <thead>\n",
       "    <tr style=\"text-align: right;\">\n",
       "      <th></th>\n",
       "      <th>MQ2</th>\n",
       "      <th>MQ3</th>\n",
       "      <th>MQ4</th>\n",
       "      <th>MQ5</th>\n",
       "      <th>MQ6</th>\n",
       "      <th>MQ7</th>\n",
       "      <th>MQ8</th>\n",
       "      <th>MQ135</th>\n",
       "    </tr>\n",
       "    <tr>\n",
       "      <th>Label</th>\n",
       "      <th></th>\n",
       "      <th></th>\n",
       "      <th></th>\n",
       "      <th></th>\n",
       "      <th></th>\n",
       "      <th></th>\n",
       "      <th></th>\n",
       "      <th></th>\n",
       "    </tr>\n",
       "  </thead>\n",
       "  <tbody>\n",
       "    <tr>\n",
       "      <th>1</th>\n",
       "      <td>427</td>\n",
       "      <td>13271</td>\n",
       "      <td>7692</td>\n",
       "      <td>2401</td>\n",
       "      <td>8471</td>\n",
       "      <td>3496.7</td>\n",
       "      <td>54.135</td>\n",
       "      <td>3588</td>\n",
       "    </tr>\n",
       "    <tr>\n",
       "      <th>2</th>\n",
       "      <td>407</td>\n",
       "      <td>12447</td>\n",
       "      <td>6919</td>\n",
       "      <td>2144</td>\n",
       "      <td>7690</td>\n",
       "      <td>3407.5</td>\n",
       "      <td>48.986</td>\n",
       "      <td>3361</td>\n",
       "    </tr>\n",
       "    <tr>\n",
       "      <th>3</th>\n",
       "      <td>350</td>\n",
       "      <td>10061</td>\n",
       "      <td>6179</td>\n",
       "      <td>1925</td>\n",
       "      <td>6713</td>\n",
       "      <td>2662.4</td>\n",
       "      <td>40.936</td>\n",
       "      <td>2893</td>\n",
       "    </tr>\n",
       "    <tr>\n",
       "      <th>4</th>\n",
       "      <td>355</td>\n",
       "      <td>11575</td>\n",
       "      <td>6248</td>\n",
       "      <td>1729</td>\n",
       "      <td>6581</td>\n",
       "      <td>2911.7</td>\n",
       "      <td>42.159</td>\n",
       "      <td>3088</td>\n",
       "    </tr>\n",
       "    <tr>\n",
       "      <th>5</th>\n",
       "      <td>365</td>\n",
       "      <td>13356</td>\n",
       "      <td>7339</td>\n",
       "      <td>2100</td>\n",
       "      <td>10853</td>\n",
       "      <td>3511.3</td>\n",
       "      <td>56.826</td>\n",
       "      <td>3619</td>\n",
       "    </tr>\n",
       "  </tbody>\n",
       "</table>\n",
       "</div>"
      ],
      "text/plain": [
       "       MQ2    MQ3   MQ4   MQ5    MQ6     MQ7     MQ8  MQ135\n",
       "Label                                                      \n",
       "1      427  13271  7692  2401   8471  3496.7  54.135   3588\n",
       "2      407  12447  6919  2144   7690  3407.5  48.986   3361\n",
       "3      350  10061  6179  1925   6713  2662.4  40.936   2893\n",
       "4      355  11575  6248  1729   6581  2911.7  42.159   3088\n",
       "5      365  13356  7339  2100  10853  3511.3  56.826   3619"
      ]
     },
     "execution_count": 9,
     "metadata": {},
     "output_type": "execute_result"
    }
   ],
   "source": [
    "#Menjumlahkan data-data sesuai Label yang ada\n",
    "label = df.groupby('Label').sum()\n",
    "label"
   ]
  },
  {
   "cell_type": "code",
   "execution_count": 10,
   "metadata": {},
   "outputs": [
    {
     "data": {
      "text/html": [
       "<div>\n",
       "<style scoped>\n",
       "    .dataframe tbody tr th:only-of-type {\n",
       "        vertical-align: middle;\n",
       "    }\n",
       "\n",
       "    .dataframe tbody tr th {\n",
       "        vertical-align: top;\n",
       "    }\n",
       "\n",
       "    .dataframe thead th {\n",
       "        text-align: right;\n",
       "    }\n",
       "</style>\n",
       "<table border=\"1\" class=\"dataframe\">\n",
       "  <thead>\n",
       "    <tr style=\"text-align: right;\">\n",
       "      <th></th>\n",
       "      <th>MQ2</th>\n",
       "      <th>MQ3</th>\n",
       "      <th>MQ4</th>\n",
       "      <th>MQ5</th>\n",
       "      <th>MQ6</th>\n",
       "      <th>MQ7</th>\n",
       "      <th>MQ8</th>\n",
       "      <th>MQ135</th>\n",
       "    </tr>\n",
       "    <tr>\n",
       "      <th>Label</th>\n",
       "      <th></th>\n",
       "      <th></th>\n",
       "      <th></th>\n",
       "      <th></th>\n",
       "      <th></th>\n",
       "      <th></th>\n",
       "      <th></th>\n",
       "      <th></th>\n",
       "    </tr>\n",
       "  </thead>\n",
       "  <tbody>\n",
       "    <tr>\n",
       "      <th>1</th>\n",
       "      <td>3.812500</td>\n",
       "      <td>118.491071</td>\n",
       "      <td>68.678571</td>\n",
       "      <td>21.437500</td>\n",
       "      <td>75.633929</td>\n",
       "      <td>31.220536</td>\n",
       "      <td>0.483348</td>\n",
       "      <td>32.035714</td>\n",
       "    </tr>\n",
       "    <tr>\n",
       "      <th>2</th>\n",
       "      <td>3.951456</td>\n",
       "      <td>120.844660</td>\n",
       "      <td>67.174757</td>\n",
       "      <td>20.815534</td>\n",
       "      <td>74.660194</td>\n",
       "      <td>33.082524</td>\n",
       "      <td>0.475592</td>\n",
       "      <td>32.631068</td>\n",
       "    </tr>\n",
       "    <tr>\n",
       "      <th>3</th>\n",
       "      <td>4.022989</td>\n",
       "      <td>115.643678</td>\n",
       "      <td>71.022989</td>\n",
       "      <td>22.126437</td>\n",
       "      <td>77.160920</td>\n",
       "      <td>30.602299</td>\n",
       "      <td>0.470529</td>\n",
       "      <td>33.252874</td>\n",
       "    </tr>\n",
       "    <tr>\n",
       "      <th>4</th>\n",
       "      <td>3.901099</td>\n",
       "      <td>127.197802</td>\n",
       "      <td>68.659341</td>\n",
       "      <td>19.000000</td>\n",
       "      <td>72.318681</td>\n",
       "      <td>31.996703</td>\n",
       "      <td>0.463286</td>\n",
       "      <td>33.934066</td>\n",
       "    </tr>\n",
       "    <tr>\n",
       "      <th>5</th>\n",
       "      <td>3.411215</td>\n",
       "      <td>124.822430</td>\n",
       "      <td>68.588785</td>\n",
       "      <td>19.626168</td>\n",
       "      <td>101.429907</td>\n",
       "      <td>32.815888</td>\n",
       "      <td>0.531084</td>\n",
       "      <td>33.822430</td>\n",
       "    </tr>\n",
       "  </tbody>\n",
       "</table>\n",
       "</div>"
      ],
      "text/plain": [
       "            MQ2         MQ3        MQ4        MQ5         MQ6        MQ7   \n",
       "Label                                                                      \n",
       "1      3.812500  118.491071  68.678571  21.437500   75.633929  31.220536  \\\n",
       "2      3.951456  120.844660  67.174757  20.815534   74.660194  33.082524   \n",
       "3      4.022989  115.643678  71.022989  22.126437   77.160920  30.602299   \n",
       "4      3.901099  127.197802  68.659341  19.000000   72.318681  31.996703   \n",
       "5      3.411215  124.822430  68.588785  19.626168  101.429907  32.815888   \n",
       "\n",
       "            MQ8      MQ135  \n",
       "Label                       \n",
       "1      0.483348  32.035714  \n",
       "2      0.475592  32.631068  \n",
       "3      0.470529  33.252874  \n",
       "4      0.463286  33.934066  \n",
       "5      0.531084  33.822430  "
      ]
     },
     "execution_count": 10,
     "metadata": {},
     "output_type": "execute_result"
    }
   ],
   "source": [
    "#Merata-rata data-data sesuai Label yang ada\n",
    "groupby_label = df.groupby('Label').mean()\n",
    "groupby_label"
   ]
  },
  {
   "cell_type": "code",
   "execution_count": 15,
   "metadata": {},
   "outputs": [],
   "source": [
    "#a = groupby_label['MQ2'].a\n",
    "#b = groupby_label['MQ2'].b\n",
    "#c = groupby_label['MQ2'].c \n",
    "#d = groupby_label['MQ2'].d \n",
    "#e = groupby_label['MQ2'].e "
   ]
  },
  {
   "cell_type": "code",
   "execution_count": 14,
   "metadata": {},
   "outputs": [
    {
     "data": {
      "text/plain": [
       "Text(0.5, 1.0, 'Rata-Rata Pada Sensor MQ2')"
      ]
     },
     "execution_count": 14,
     "metadata": {},
     "output_type": "execute_result"
    },
    {
     "data": {
      "image/png": "[encoded data removed]",
      "text/plain": [
       "<Figure size 640x480 with 1 Axes>"
      ]
     },
     "metadata": {},
     "output_type": "display_data"
    }
   ],
   "source": [
    "label_daun = ('a', 'b', 'c', 'd', 'e')\n",
    "daun = (1, 2, 3, 4, 5)\n",
    "\n",
    "y_pos = np.arange(len(daun))\n",
    "x = np.arange(0.000,1.000,0.001)\n",
    "\n",
    "plt.barh(y_pos, daun, align = 'center', alpha = 0.8)\n",
    "plt.yticks(y_pos, label_daun)\n",
    "plt.xlabel('MQ2')\n",
    "plt.title('Rata-Rata Pada Sensor MQ2')"
   ]
  }
 ],
 "metadata": {
  "kernelspec": {
   "display_name": "Python 3",
   "language": "python",
   "name": "python3"
  },
  "language_info": {
   "codemirror_mode": {
    "name": "ipython",
    "version": 3
   },
   "file_extension": ".py",
   "mimetype": "text/x-python",
   "name": "python",
   "nbconvert_exporter": "python",
   "pygments_lexer": "ipython3",
   "version": "3.10.11"
  },
  "orig_nbformat": 4
 },
 "nbformat": 4,
 "nbformat_minor": 2
}
